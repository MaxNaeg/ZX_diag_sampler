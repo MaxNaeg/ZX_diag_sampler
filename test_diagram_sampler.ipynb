{
 "cells": [
  {
   "cell_type": "code",
   "execution_count": 18,
   "metadata": {},
   "outputs": [
    {
     "name": "stdout",
     "output_type": "stream",
     "text": [
      "The autoreload extension is already loaded. To reload it, use:\n",
      "  %reload_ext autoreload\n"
     ]
    }
   ],
   "source": [
    "%load_ext autoreload\n",
    "%autoreload 2\n",
    "import numpy as np\n",
    "from diagram_sampler import ZX_diag_sampler"
   ]
  },
  {
   "cell_type": "code",
   "execution_count": 30,
   "metadata": {},
   "outputs": [],
   "source": [
    "seed = 0\n",
    "\n",
    "size_fac = 100\n",
    "\n",
    "n_in_min = 1 * size_fac\n",
    "n_in_max = 3 * size_fac\n",
    "min_spiders = 10 * size_fac\n",
    "max_spiders = 50 * size_fac\n",
    "pi_fac = 0.5\n",
    "pi_half_fac = 0.5\n",
    "arb_fac = 0.5\n",
    "p_hada = 0.2\n",
    "min_mean_neighbours = 2\n",
    "max_mean_neighbours = 4\n",
    "remove_disconnected = True\n",
    "rng = np.random.default_rng(seed)\n",
    "\n",
    "diag_sampler = ZX_diag_sampler(n_in_min, n_in_max, min_spiders, max_spiders, \n",
    "                               pi_fac, pi_half_fac, arb_fac, p_hada, min_mean_neighbours, \n",
    "                               max_mean_neighbours, remove_disconnected, rng)"
   ]
  },
  {
   "cell_type": "code",
   "execution_count": 31,
   "metadata": {},
   "outputs": [
    {
     "data": {
      "text/plain": [
       "(array([[0, 0, 0, 1, 0],\n",
       "        [0, 0, 0, 1, 0],\n",
       "        [0, 0, 0, 1, 0],\n",
       "        ...,\n",
       "        [0, 0, 1, 0, 0],\n",
       "        [0, 0, 1, 0, 0],\n",
       "        [0, 0, 1, 0, 0]]),\n",
       " array([[0, 0, 0, 0, 1],\n",
       "        [0, 0, 0, 0, 1],\n",
       "        [0, 0, 0, 0, 1],\n",
       "        ...,\n",
       "        [0, 0, 0, 0, 1],\n",
       "        [0, 0, 0, 0, 1],\n",
       "        [0, 0, 0, 0, 1]]),\n",
       " array([   0,    1,    2, ..., 2088, 1778, 2061]),\n",
       " array([ 498,  499,  500, ..., 3268, 3269, 3269]))"
      ]
     },
     "execution_count": 31,
     "metadata": {},
     "output_type": "execute_result"
    }
   ],
   "source": [
    "diag_sampler.sample()"
   ]
  },
  {
   "cell_type": "code",
   "execution_count": 32,
   "metadata": {},
   "outputs": [],
   "source": [
    "samples = 10000\n",
    "for _ in range(samples):\n",
    "    diag_sampler.sample()"
   ]
  },
  {
   "cell_type": "code",
   "execution_count": null,
   "metadata": {},
   "outputs": [],
   "source": []
  }
 ],
 "metadata": {
  "kernelspec": {
   "display_name": "tf",
   "language": "python",
   "name": "python3"
  },
  "language_info": {
   "codemirror_mode": {
    "name": "ipython",
    "version": 3
   },
   "file_extension": ".py",
   "mimetype": "text/x-python",
   "name": "python",
   "nbconvert_exporter": "python",
   "pygments_lexer": "ipython3",
   "version": "3.11.5"
  }
 },
 "nbformat": 4,
 "nbformat_minor": 2
}
